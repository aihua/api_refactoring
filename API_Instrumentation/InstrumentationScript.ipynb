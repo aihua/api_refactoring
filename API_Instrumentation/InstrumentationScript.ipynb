{
 "cells": [
  {
   "cell_type": "code",
   "execution_count": 1,
   "metadata": {},
   "outputs": [],
   "source": [
    "import os\n"
   ]
  },
  {
   "cell_type": "code",
   "execution_count": 2,
   "metadata": {},
   "outputs": [],
   "source": [
    "dst = '/Users/shreya/eclipse/Workspace/InstrumentationHelper/junit'\n",
    "if not os.path.exists(dst):\n",
    "    os.mkdir(dst)\n",
    "API = 'junit4-r4.12' \n",
    "API_new = 'junit4-r4.12_new' "
   ]
  },
  {
   "cell_type": "code",
   "execution_count": 74,
   "metadata": {},
   "outputs": [
    {
     "name": "stdout",
     "output_type": "stream",
     "text": [
      "myXstream.printFile(xstream(word),myfilepath);\n"
     ]
    }
   ],
   "source": [
    "\n",
    "iline_1 = 'myXstream.printFile(xstream(*),$);'\n",
    "print(iline_1.replace('*','word').replace('$','myfilepath'))"
   ]
  },
  {
   "cell_type": "code",
   "execution_count": 75,
   "metadata": {},
   "outputs": [
    {
     "name": "stdout",
     "output_type": "stream",
     "text": [
      "/Users/shreya/eclipse/Workspace/InstrumentationHelper/junit4-r4.12/src/main/java/junit/extensions/ActiveTestSuite.java|junit.extensions.ActiveTestSuite.run|33|(result)|void\n",
      "\n",
      "junit.extensions.ActiveTestSuite.run_result_void\n",
      "junit.extensions.ActiveTestSuite.run_result_void\n",
      "\n",
      "/Users/shreya/eclipse/Workspace/InstrumentationHelper/junit4-r4.12/src/main/java/junit/extensions/ActiveTestSuite.java|junit.extensions.ActiveTestSuite.runTest|40|(test,result)|void\n",
      "\n",
      "junit.extensions.ActiveTestSuite.runTest_test,result_void\n",
      "junit.extensions.ActiveTestSuite.runTest_test,result_void\n",
      "\n",
      "junit.extensions.ActiveTestSuite.runTest_test,result_void\n",
      "junit.extensions.ActiveTestSuite.runTest_test,result_void\n",
      "\n",
      "/Users/shreya/eclipse/Workspace/InstrumentationHelper/junit4-r4.12/src/main/java/junit/extensions/ActiveTestSuite.java|.run|43|()|void\n",
      "\n",
      "/Users/shreya/eclipse/Workspace/InstrumentationHelper/junit4-r4.12/src/main/java/junit/extensions/ActiveTestSuite.java|.run|43|()|void\n",
      "\n",
      "/Users/shreya/eclipse/Workspace/InstrumentationHelper/junit4-r4.12/src/main/java/junit/extensions/ActiveTestSuite.java|junit.extensions.ActiveTestSuite.runFinished|66|()|void\n",
      "\n",
      "/Users/shreya/eclipse/Workspace/InstrumentationHelper/junit4-r4.12/src/main/java/junit/extensions/RepeatedTest.java|junit.extensions.RepeatedTest.countTestCases|21|()|int\n",
      "\n",
      "/Users/shreya/eclipse/Workspace/InstrumentationHelper/junit4-r4.12/src/main/java/junit/extensions/RepeatedTest.java|junit.extensions.RepeatedTest.run|26|(result)|void\n",
      "\n",
      "junit.extensions.RepeatedTest.run_result_void\n",
      "junit.extensions.RepeatedTest.run_result_void\n",
      "\n",
      "/Users/shreya/eclipse/Workspace/InstrumentationHelper/junit4-r4.12/src/main/java/junit/extensions/RepeatedTest.java|junit.extensions.RepeatedTest.toString|36|()|String\n"
     ]
    }
   ],
   "source": [
    "cur_src_file_path = None\n",
    "cur_src_file = None\n",
    "dst_file_path = None\n",
    "dst_file = None\n",
    "\n",
    "with open(\"parsedDataMini.txt\", \"r\") as changeFile:\n",
    "    for line in changeFile:\n",
    "        print(line)\n",
    "        src_file_path, function, line_no , parameters , returnType = line.split('|')\n",
    "        \n",
    "        if ((cur_src_file_path == None) or (src_file_path != cur_src_file_path)):\n",
    "                \n",
    "                if(cur_src_file_path != None):\n",
    "                   \n",
    "                    dst_file.write(cur_src_file.read())\n",
    "                    \n",
    "                    cur_src_file.close()\n",
    "                    dst_file.close()\n",
    "                \n",
    "        \n",
    "                cur_src_file_path = src_file_path\n",
    "                \n",
    "                dst_file_path = cur_src_file_path.replace(API,API_new)\n",
    "#                 print(dst_src_file_path)\n",
    "\n",
    "                cur_src_file  = open(cur_src_file_path, 'r') \n",
    "                dst_file  = open(dst_file_path, 'w')\n",
    "        \n",
    "                line_count = 0\n",
    "                \n",
    "            \n",
    "        while(line_count < int(line_no)):\n",
    "#             print(line_no,line_count)\n",
    "            src_line = cur_src_file.readline()\n",
    "#             print(src_line)\n",
    "            dst_file.write(src_line)\n",
    "            line_count+=1\n",
    "            \n",
    "        if(len(parameters)>2):\n",
    "            dst_file.write('\\n')\n",
    "            dst_file.write('/*-------------------Instrumentation Start-------------------*/ \\n')\n",
    "            dst_file.write('\\n')\n",
    "            \n",
    "            for s in  parameters[1:-1].split(','):\n",
    "                file_path = function+'_'+s+'_'+returnType\n",
    "                print(file_path.strip('\\n'))\n",
    "                dst_file.write(iline_1.replace('*',s).replace('$',\"\\\"\"+file_path.strip('\\n')+\"\\\"\"))\n",
    "                dst_file.write('\\n')\n",
    "                print(file_path)\n",
    "            dst_file.write('\\n')\n",
    "            dst_file.write('/*-------------------Instrumentation Finish-------------------*/ \\n')\n",
    "            dst_file.write('\\n')\n",
    "            \n",
    "        \n",
    "\n",
    "# Windup              \n",
    "dst_file.write(cur_src_file.read())                \n",
    "cur_src_file.close()\n",
    "dst_file.close()  \n",
    "changeFile.close()\n",
    "                \n",
    "         \n",
    "            \n",
    "         \n",
    "            \n",
    "        \n",
    "        \n",
    "        "
   ]
  },
  {
   "cell_type": "code",
   "execution_count": 47,
   "metadata": {},
   "outputs": [
    {
     "data": {
      "text/plain": [
       "'ab_b'"
      ]
     },
     "execution_count": 47,
     "metadata": {},
     "output_type": "execute_result"
    }
   ],
   "source": [
    "parameters = '(ab,b)'\n",
    "'_'.join(parameters[1:-1].split(','))"
   ]
  },
  {
   "cell_type": "code",
   "execution_count": 40,
   "metadata": {},
   "outputs": [
    {
     "name": "stdout",
     "output_type": "stream",
     "text": [
      "a|b\n"
     ]
    }
   ],
   "source": [
    "print('|'.join('a'+'b'))"
   ]
  },
  {
   "cell_type": "code",
   "execution_count": 41,
   "metadata": {},
   "outputs": [
    {
     "data": {
      "text/plain": [
       "'junit.extensions.RepeatedTest.toString'"
      ]
     },
     "execution_count": 41,
     "metadata": {},
     "output_type": "execute_result"
    }
   ],
   "source": []
  },
  {
   "cell_type": "code",
   "execution_count": 56,
   "metadata": {},
   "outputs": [
    {
     "data": {
      "text/plain": [
       "'\"junit.extensions.RepeatedTest.run_result_void\\n\"'"
      ]
     },
     "execution_count": 56,
     "metadata": {},
     "output_type": "execute_result"
    }
   ],
   "source": [
    "file_path"
   ]
  },
  {
   "cell_type": "code",
   "execution_count": 57,
   "metadata": {},
   "outputs": [
    {
     "data": {
      "text/plain": [
       "'String'"
      ]
     },
     "execution_count": 57,
     "metadata": {},
     "output_type": "execute_result"
    }
   ],
   "source": [
    "returnType"
   ]
  },
  {
   "cell_type": "code",
   "execution_count": null,
   "metadata": {},
   "outputs": [],
   "source": []
  }
 ],
 "metadata": {
  "kernelspec": {
   "display_name": "Python 3",
   "language": "python",
   "name": "python3"
  },
  "language_info": {
   "codemirror_mode": {
    "name": "ipython",
    "version": 3
   },
   "file_extension": ".py",
   "mimetype": "text/x-python",
   "name": "python",
   "nbconvert_exporter": "python",
   "pygments_lexer": "ipython3",
   "version": "3.6.4"
  }
 },
 "nbformat": 4,
 "nbformat_minor": 2
}
